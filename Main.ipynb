{
 "cells": [
  {
   "cell_type": "code",
   "execution_count": 82,
   "id": "2cc60742-1222-4198-8056-8ecdacbc3f38",
   "metadata": {
    "editable": true,
    "scrolled": true,
    "slideshow": {
     "slide_type": ""
    },
    "tags": []
   },
   "outputs": [
    {
     "data": {
      "application/vnd.jupyter.widget-view+json": {
       "model_id": "ab85681bf98b4806bf9b1869ece76d27",
       "version_major": 2,
       "version_minor": 0
      },
      "text/plain": [
       "HBox(children=(Checkbox(value=False, description='Call', indent=False), Checkbox(value=False, description='Put…"
      ]
     },
     "metadata": {},
     "output_type": "display_data"
    },
    {
     "data": {
      "application/vnd.jupyter.widget-view+json": {
       "model_id": "eb0286e924bd47dc8e015c6669afe14a",
       "version_major": 2,
       "version_minor": 0
      },
      "text/plain": [
       "HBox(children=(Combobox(value='100', description='Stock Price :', placeholder='100'), Text(value='', descripti…"
      ]
     },
     "metadata": {},
     "output_type": "display_data"
    },
    {
     "data": {
      "application/vnd.jupyter.widget-view+json": {
       "model_id": "644304ad0d7b45e7a195b94f97ef302b",
       "version_major": 2,
       "version_minor": 0
      },
      "text/plain": [
       "HBox(children=(Combobox(value='100', description='Strike Price :', placeholder='100'), Text(value='', descript…"
      ]
     },
     "metadata": {},
     "output_type": "display_data"
    },
    {
     "data": {
      "application/vnd.jupyter.widget-view+json": {
       "model_id": "bfaa8b1a8da74495a4d31dc7d3a9544a",
       "version_major": 2,
       "version_minor": 0
      },
      "text/plain": [
       "HBox(children=(Combobox(value='0.2', description='Volatility :', placeholder='0.2'), Text(value='', descriptio…"
      ]
     },
     "metadata": {},
     "output_type": "display_data"
    },
    {
     "data": {
      "application/vnd.jupyter.widget-view+json": {
       "model_id": "ddee6296ac4444349b615d40808135ad",
       "version_major": 2,
       "version_minor": 0
      },
      "text/plain": [
       "HBox(children=(Combobox(value='0.02', description='Interest rate :', placeholder='0.03'), Text(value='', descr…"
      ]
     },
     "metadata": {},
     "output_type": "display_data"
    },
    {
     "data": {
      "application/vnd.jupyter.widget-view+json": {
       "model_id": "3df0b2fbf0294dbe936ee3922608b219",
       "version_major": 2,
       "version_minor": 0
      },
      "text/plain": [
       "HBox(children=(Combobox(value='0.05', description='Dividend yield :', placeholder='0.05'), Text(value='', desc…"
      ]
     },
     "metadata": {},
     "output_type": "display_data"
    },
    {
     "data": {
      "application/vnd.jupyter.widget-view+json": {
       "model_id": "528d175a5a814a3abc65017cc9252af9",
       "version_major": 2,
       "version_minor": 0
      },
      "text/plain": [
       "HBox(children=(Combobox(value='1', description='Maturity :', placeholder='1.5'), Text(value='', description='R…"
      ]
     },
     "metadata": {},
     "output_type": "display_data"
    },
    {
     "data": {
      "application/vnd.jupyter.widget-view+json": {
       "model_id": "6db443816db44eff97ccfcff3019cc3d",
       "version_major": 2,
       "version_minor": 0
      },
      "text/plain": [
       "Button(description='Price !', style=ButtonStyle())"
      ]
     },
     "metadata": {},
     "output_type": "display_data"
    },
    {
     "data": {
      "application/vnd.jupyter.widget-view+json": {
       "model_id": "17a36e9e99eb493faac8e774674c222d",
       "version_major": 2,
       "version_minor": 0
      },
      "text/plain": [
       "Output()"
      ]
     },
     "metadata": {},
     "output_type": "display_data"
    }
   ],
   "source": [
    "#V:1.0 - Coded by Alexandre Ménard - 2024\n",
    "import ipywidgets as W\n",
    "import pandas as pd\n",
    "from IPython.display import display\n",
    "from numpy import exp, sqrt, log\n",
    "from scipy import stats\n",
    "from math import *\n",
    "\n",
    "def european_opt_pricing(b):\n",
    "    output.clear_output()\n",
    "    if (call_checkbox.value == True and put_checkbox.value == False) or (call_checkbox.value == False and put_checkbox.value == True):\n",
    "\n",
    "        if call_checkbox.value == True and put_checkbox.value == False:\n",
    "            type_opt = 'Call'\n",
    "        elif call_checkbox.value == False and put_checkbox.value == True:\n",
    "            type_opt = 'Put'\n",
    "        \n",
    "        spot = float(stock_price_box.value)\n",
    "        strike = float(strike_price_box.value)\n",
    "        volatility = float(volatility_box.value)\n",
    "        interest_rate = float(interest_rate_box.value)\n",
    "        maturity = float(maturity_box.value)\n",
    "        dividend = float(dividend_rate_box.value)\n",
    "\n",
    "        d1 = ((log(spot/strike)+((interest_rate-dividend)+(volatility**2)/2)*maturity)/(volatility*sqrt(maturity)))\n",
    "        d2 = d1-volatility*sqrt(maturity)\n",
    "        d1RC = (1/(sqrt(2*pi)))*exp(-(d1**2)/2)\n",
    "\n",
    "        if type_opt == 'Call':\n",
    "            price_opt = round(spot*stats.norm.cdf(d1)*exp(-dividend*maturity)-strike*(exp(-interest_rate*maturity))*stats.norm.cdf(d2),2)\n",
    "        elif type_opt == 'Put':\n",
    "            price_opt = round(strike*(exp(-interest_rate*maturity))*stats.norm.cdf(-d2)-spot*stats.norm.cdf(-d1)*exp(-dividend*maturity),2)\n",
    "    \n",
    "        #Greeks (1st order)\n",
    "        if type_opt == 'Call':\n",
    "            delta = round(stats.norm.cdf(d1)*exp(-dividend*maturity),4)\n",
    "        elif type_opt == 'Put':\n",
    "            delta = round(-stats.norm.cdf(-d1)*exp(-dividend*maturity),4)\n",
    "            \n",
    "        gamma = round((d1RC*exp(-dividend*maturity))/(spot*volatility*sqrt(maturity)),4)    \n",
    "        vega = round((d1RC*exp(-dividend*maturity)*sqrt(maturity)*spot)/100,4)\n",
    "        \n",
    "        if type_opt == 'Call':\n",
    "            rho = round((strike*maturity*exp(-interest_rate*maturity)*stats.norm.cdf(d2))/100,4)\n",
    "        elif type_opt == 'Put':\n",
    "            rho = round((-strike*maturity*exp(-interest_rate*maturity)*stats.norm.cdf(-d2))/100,4)\n",
    "\n",
    "        if type_opt == 'Call':\n",
    "            theta = round((-((d1RC*(spot*exp(-dividend*maturity))*volatility)/(2*sqrt(maturity)))-interest_rate*(strike*exp(-interest_rate*maturity))*stats.norm.cdf(d2)+dividend*(spot*exp(-dividend*maturity))*stats.norm.cdf(d1))/252,4)\n",
    "        elif type_opt == 'Put':          \n",
    "            theta = round((-((d1RC*(spot*exp(-dividend*maturity))*volatility)/(2*sqrt(maturity)))+interest_rate*(strike*exp(-interest_rate*maturity))*stats.norm.cdf(-d2)-dividend*(spot*exp(-dividend*maturity))*stats.norm.cdf(-d1))/252,4)\n",
    "            \n",
    "        #Results\n",
    "        Price_box.value = str(price_opt)\n",
    "        Delta_box.value = str(delta)\n",
    "        Gamma_box.value = str(gamma)\n",
    "        Vega_box.value = str(vega)\n",
    "        Rho_box.value = str(rho)\n",
    "        Theta_box.value = str(theta)\n",
    "        \n",
    "        with output:\n",
    "            print(\"Param : \" + str(spot) + \",\" + str(strike) + \",\" + str(volatility) + \",\" + str(interest_rate) + \",\" + str(maturity) + \",\" + str(dividend))\n",
    "            print(\"Pricing...\")\n",
    "            print(\"Final price : \" + str(price_opt))\n",
    "            chart_button.disabled=False\n",
    "            #print(\"D1 prime : \" + str(d1RC)) #For checking..\n",
    "            #print(type(spot)) #For checking..\n",
    "    else:\n",
    "        with output:\n",
    "            print(\"Please select call or put option, not both!\")\n",
    "            chart_button.disabled=True\n",
    "\n",
    "stock_price_box = W.Combobox(value='100', placeholder='100', description='Stock Price :')\n",
    "strike_price_box = W.Combobox(value='100', placeholder='100', description='Strike Price :')\n",
    "volatility_box = W.Combobox(value='0.2', placeholder='0.2', description='Volatility :')\n",
    "interest_rate_box = W.Combobox(value='0.02', placeholder='0.03', description='Interest rate :')\n",
    "maturity_box = W.Combobox(value='1', placeholder='1.5', description='Maturity :')\n",
    "dividend_rate_box = W.Combobox(value='0.05', placeholder='0.05', description='Dividend yield :')\n",
    "price_button = W.Button(description='Price !',disabled=False)\n",
    "chart_button = W.Button(description='Get Chart',disabled=True)\n",
    "output = W.Output()\n",
    "call_checkbox = W.Checkbox(value=False,description='Call',disabled=False,indent=False)\n",
    "put_checkbox = W.Checkbox(value=False,description='Put',disabled=False,indent=False)\n",
    "Price_box = W.Text(value='',placeholder='Please price',description='Final Price:',disabled=True)\n",
    "Delta_box = W.Text(value='',placeholder='Please price',description='Delta:',disabled=True)\n",
    "Gamma_box = W.Text(value='',placeholder='Please price',description='Gamma:',disabled=True)\n",
    "Theta_box = W.Text(value='',placeholder='Please price',description='Theta:',disabled=True)\n",
    "Vega_box = W.Text(value='',placeholder='Please price',description='Vega:',disabled=True)\n",
    "Rho_box = W.Text(value='',placeholder='Please price',description='Rho:',disabled=True)\n",
    "\n",
    "type_opt = W.HBox([call_checkbox, put_checkbox])\n",
    "line1 = W.HBox([stock_price_box, Price_box])\n",
    "line2 = W.HBox([strike_price_box, Delta_box, chart_button])\n",
    "line3 = W.HBox([volatility_box, Gamma_box, chart_button])\n",
    "line4 = W.HBox([interest_rate_box, Theta_box, chart_button])\n",
    "line5 = W.HBox([dividend_rate_box, Vega_box, chart_button])\n",
    "line6 = W.HBox([maturity_box, Rho_box, chart_button])\n",
    "#type_opt = W.HBox([W.Checkbox(value=False,description='Call',disabled=False,indent=False),W.Checkbox(value=False,description='Put',disabled=False,indent=False)])\n",
    "\n",
    "display(type_opt)\n",
    "display(line1)\n",
    "display(line2)\n",
    "display(line3)\n",
    "display(line4)\n",
    "display(line5)\n",
    "display(line6)\n",
    "display(price_button,output)\n",
    "\n",
    "\n",
    "def on_button_clicked(b):\n",
    "    with output:\n",
    "        print(\"Button clicked.\")\n",
    "\n",
    "price_button.on_click(european_opt_pricing)    \n",
    "\n",
    "    "
   ]
  },
  {
   "cell_type": "code",
   "execution_count": null,
   "id": "e1717de7-0430-4f72-a885-c5b2af6a14f4",
   "metadata": {},
   "outputs": [],
   "source": []
  }
 ],
 "metadata": {
  "kernelspec": {
   "display_name": "Python 3 (ipykernel)",
   "language": "python",
   "name": "python3"
  },
  "language_info": {
   "codemirror_mode": {
    "name": "ipython",
    "version": 3
   },
   "file_extension": ".py",
   "mimetype": "text/x-python",
   "name": "python",
   "nbconvert_exporter": "python",
   "pygments_lexer": "ipython3",
   "version": "3.12.3"
  }
 },
 "nbformat": 4,
 "nbformat_minor": 5
}
